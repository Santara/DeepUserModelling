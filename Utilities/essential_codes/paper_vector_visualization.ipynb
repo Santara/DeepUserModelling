{
 "cells": [
  {
   "cell_type": "code",
   "execution_count": 1,
   "metadata": {
    "collapsed": true
   },
   "outputs": [],
   "source": [
    "import scipy.io as io\n",
    "import numpy as np\n",
    "from sklearn.manifold import TSNE\n",
    "import matplotlib.pyplot as plt"
   ]
  },
  {
   "cell_type": "code",
   "execution_count": 2,
   "metadata": {
    "collapsed": true
   },
   "outputs": [],
   "source": [
    "vectors = io.loadmat('vectors_temp.mat')\n",
    "vec_arr = vectors['paper_vectors']\n",
    "model = TSNE(n_components = 2, random_state = 0)\n",
    "np.set_printoptions(suppress = True)"
   ]
  },
  {
   "cell_type": "code",
   "execution_count": 3,
   "metadata": {
    "collapsed": true
   },
   "outputs": [],
   "source": [
    "arr = [[[]]]\n",
    "arr = [[[0]*2 for i in range(10)] for j in range(0,10)]\n",
    "for i in range(10):\n",
    "    arr[i] = model.fit_transform(vec_arr[i])"
   ]
  },
  {
   "cell_type": "code",
   "execution_count": 6,
   "metadata": {
    "collapsed": true
   },
   "outputs": [],
   "source": [
    "fig = plt.figure()\n",
    "ax = fig.add_subplot(111)"
   ]
  },
  {
   "cell_type": "code",
   "execution_count": 7,
   "metadata": {
    "collapsed": false
   },
   "outputs": [
    {
     "data": {
      "text/plain": [
       "<matplotlib.collections.PathCollection at 0x7f5c25926090>"
      ]
     },
     "execution_count": 7,
     "metadata": {},
     "output_type": "execute_result"
    }
   ],
   "source": [
    "ax.scatter(arr[0][:,0], arr[0][:,1], s=10, c = 'b', marker = \"o\", label = 'first')\n",
    "ax.scatter(arr[1][:,0], arr[1][:,1], s=10, c = 'g', marker = \"o\", label = 'second')\n",
    "ax.scatter(arr[2][:,0], arr[2][:,1], s=10, c = 'r', marker = \"o\", label = 'third')\n",
    "ax.scatter(arr[3][:,0], arr[3][:,1], s=10, c = 'c', marker = \"o\", label = 'fourth')\n",
    "ax.scatter(arr[4][:,0], arr[4][:,1], s=10, c = 'm', marker = \"o\", label = 'fifth')\n",
    "ax.scatter(arr[5][:,0], arr[5][:,1], s=10, c = 'y', marker = \"o\", label = 'sixth')\n",
    "ax.scatter(arr[6][:,0], arr[6][:,1], s=10, c = 'k', marker = \"o\", label = 'seventh')\n",
    "ax.scatter(arr[7][:,0], arr[7][:,1], s=10, c = 'w', marker = \"o\", label = 'eighth')"
   ]
  },
  {
   "cell_type": "code",
   "execution_count": null,
   "metadata": {
    "collapsed": false
   },
   "outputs": [],
   "source": [
    "plt.legend(loc='upper right')\n",
    "plt.show()"
   ]
  },
  {
   "cell_type": "code",
   "execution_count": null,
   "metadata": {
    "collapsed": true
   },
   "outputs": [],
   "source": []
  }
 ],
 "metadata": {
  "kernelspec": {
   "display_name": "Python 2",
   "language": "python",
   "name": "python2"
  },
  "language_info": {
   "codemirror_mode": {
    "name": "ipython",
    "version": 2
   },
   "file_extension": ".py",
   "mimetype": "text/x-python",
   "name": "python",
   "nbconvert_exporter": "python",
   "pygments_lexer": "ipython2",
   "version": "2.7.6"
  }
 },
 "nbformat": 4,
 "nbformat_minor": 0
}
