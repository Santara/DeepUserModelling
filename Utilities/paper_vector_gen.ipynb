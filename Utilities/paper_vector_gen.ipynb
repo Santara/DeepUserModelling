{
 "cells": [
  {
   "cell_type": "code",
   "execution_count": 1,
   "metadata": {
    "collapsed": false
   },
   "outputs": [],
   "source": [
    "import numpy as np\n",
    "import os\n",
    "import re\n",
    "import skipthoughts\n",
    "#from paper_reader import read_a_paper\n",
    "import pdb\n",
    "from time import time"
   ]
  },
  {
   "cell_type": "markdown",
   "metadata": {},
   "source": [
    "Initialize skipthoughts\n",
    "-----------------------"
   ]
  },
  {
   "cell_type": "code",
   "execution_count": 2,
   "metadata": {
    "collapsed": false
   },
   "outputs": [
    {
     "name": "stdout",
     "output_type": "stream",
     "text": [
      "Loading model parameters...\n",
      "Compiling encoders...\n",
      "Loading tables...\n",
      "Packing up...\n"
     ]
    }
   ],
   "source": [
    "model = skipthoughts.load_model()"
   ]
  },
  {
   "cell_type": "markdown",
   "metadata": {},
   "source": [
    "Define input and output file names\n",
    "-------------------"
   ]
  },
  {
   "cell_type": "code",
   "execution_count": 3,
   "metadata": {
    "collapsed": false
   },
   "outputs": [],
   "source": [
    "DATA_DIR = '/users/TeamDeepUser/DeepUserModellingProject/DeepUserModelling/DatasetsProcessed'\n",
    "f_input = open(os.path.join(DATA_DIR, 'data_prepared_for_skipthoughts.txt'), 'r')\n",
    "f_output = open(os.path.join(DATA_DIR, 'paper-vectors.txt'),'w')"
   ]
  },
  {
   "cell_type": "code",
   "execution_count": 4,
   "metadata": {
    "collapsed": false
   },
   "outputs": [
    {
     "name": "stdout",
     "output_type": "stream",
     "text": [
      "1447\n",
      "53.1607530117\n"
     ]
    }
   ],
   "source": [
    "# a=[str()\"tcl and the tk toolkitfrom the book tcl was born of frustration. in the early 1980s my students and i developed a number of interactive tools at the university of california at berkeley, mostly for integrated circuit design, and we found ourselves spending a lot of time building bad command languages. each tool needed to have a command language of some sort, but our main interest was in the tool rather than its command language. we spent as little time as possible on the command language and always ended up with a language that was weak and quirky. furthermore, the command language for one tool was never quite right for the next tool, so we ended up building a new bad command language for each tool. this became increasingly frustrating.in the fall of 1987 it occurred to me that the solution was to build a reusable command language. if a general-purpose scripting language could be built as a c library package, then perhaps it could be reused for many different purposes in many different applications. of course, the language would need to be extensible so that each application could add its own specific features to the core provided by the library. in the spring of 1988 i decided to implement such a language, and the result was tcl. tk was also born of frustration. the basic idea for tk arose in response to apple's announcement of hypercard in the fall of 1987. hypercard generated tremendous excitement because of the power of the system and the way in which it allowed many different interactive elements to be scripted and work together. however, i was discouraged. the hypercard system had obviously taken a large development effort, and it seemed unlikely to me that a small group such as a university researchproject could ever mount such a massive effort. this suggested that we would not be able to participate in the development of new forms of interactive software in the future.i concluded that the only hope for us was a component approach. rather than building a new application as a self-contained monolith with hundreds of thousands of lines of code, we needed to find a way to divide applications into many smaller reusable components. ideally each component would be small enough to be implemented by a small group, and interesting applications could be created by assembling components. in this environment it should be possible to create an exciting new application by developing one new component and then combining it with existing components.the component-based approach requires a powerful and flexible \"glue\"for assembling the components, and it occurred to me that perhaps a shared scripting language could provide that glue. out of this thinking grew tk, an x11 toolkit based on tcl. tk allows components to be either individual user-interface controls or entire applications; in either case components can be developed independently and tcl can be used to assemble the components and communicate between them.i started writing tcl and tk as a hobby in my spare time. as other people began to use the systems i found myself spending more and more time on them, to the point where today they occupy almost all of my waking hours and many of my sleeping ones.tcl and tk have succeeded beyond my wildest dreams. the tcl/tk developer community now numbers in the tens of thousands and there are thousands of tcl applications in existence or under development. the application areas for tcl and tk cover virtually the entire spectrum of graphical and engineering applications, including computer-aided design, software development, testing, instrument control, scientific visualization, and multimedia. tcl is used by itself in many applications, and tcl and tk are used together in many others. tcl and tk are being used by hundreds of companies, large and small, as well as universities and research laboratories.one benefit that came as a surprise to me is that it is possible to create interesting graphical user interfaces (guis) entirely as tcl scripts. i had always assumed that every tcl application would contain some new c code that implements new tcl commands, plus some tcl scripts that combine the new commands with the built-in facilities provided by tcl. however, once a simple tcl/tk application called wish became available, many people began creating user interfaces by writing tcl scripts for it, without writing any c code at all it turned out that the tcl and tk commands provide a high-level interface to gui programming that hides many of the details faced by a c programmer. as a result, it is much easier to learn how to use wish than a c-based toolkit, and user interfaces can be written with much less code. most tcl/tk users never write any c code at all and most of the tcl/tk applications consist solely of tcl scripts.this book is intended as an introduction to tcl and tk for programmers who plan to write or modify tcl/tk applications. i assume that readers have programmed in c and have at least passing familiarity with a shell such as sh or csh or ksh. i also assume that readers have used the x window system and are familiar with basic ideas such as using the mouse, resizing windows, etc. no prior experience with tcl or tk is needed in order to read this book, and you need not have written x applications using other toolkits such as motif.the book is organized so that you can learn tcl without learning tk if you wish. also, the discussion of how to write tcl scripts is separate from the discussion of how to use the c library interfaces provided by tcl and tk. the first two parts of the book describe tcl and tk at the level of writing scripts, and the last two parts describe the c interfaces for tcl and tk; if you are like the majority of tcl/tk users who only write scripts, you can stop after reading the first two parts.in spite of my best efforts, i'm sure that there are errors in this edition of the book. i'm interested in hearing about any problems that you encounter, whether they are typos, formatting errors, sections or ideas that are hard to understand, or bugs in the examples. i'll attempt to correct the problems in future printings of the book. the best way to report problems is with electronic mail sent to tclbookbugs@cs.berkeley.edu.many people have helped in the creation of this book. first and foremost i would like to thank brian kernighan, who reviewed several drafts of the manuscript with almost terrifying thoroughness and uncovered numerous problems both large and small. i am also grateful for the detailed comments provided by the other addison-wesley technical reviewers: richard blevins, gerard holzmann, curt horkey, ron hutchins, stephen johnson, oliver jones, david korn, bill leggett, don libes, kent margraf, stuart mcrobert, david richardson, alexei rodrigues, gerald rosenberg, john slater, and win treese. thanks also to bob sproull, who read the next-to-last draft from cover to cover and provided countless bug fixes and suggestions.i made early drafts of the manuscript available to the tcl/tk community via the internet and received countless comments and suggestions from all over the world in return. i'm afraid that i didn't keep careful enough records to acknowledge all the people who contributed in this way, but the list of contributors includes at least the following people: marvin aguero, miriam amos nihart, jim anderson, frederik anheuser, jeff blaine, john boller, david boyce, terry brannon, richard campbell, j. cazander, wen chen, richard cheung, peter chubb, de clarke, peter collinson, peter costantinidis, alistair crooks, peter davies, tal dayan, akim demaille, mark diekhans, matthew dillon, tuan doan, tony duarte, paul dubois, anton eliens, marc r. ewing, luis fernandes, martin forssen, ben fried, matteo frigo, andrej gabara, steve gaede, sanjay ghemawat, bob\"]\n",
    "a = [\"tcl and the tk toolkitfrom the book @() , & tcl was born of frustration. in the early 1980s my students and i developed a number of interactive tools at the university of california at berkeley, mostly for integrated circuit design, and we found ourselves spending a lot of time building bad command languages. each tool needed to have a command language of some sort, but our main interest was in the tool rather than its command language. we spent as little time as possible on the command language and always ended up with a language that was weak and quirky. furthermore, the command language for one tool was never quite right for the next tool, so we ended up building a new bad command language for each tool. this became increasingly frustrating.in the fall of 1987 it occurred to me that the solution was to build a reusable command language. if a general-purpose scripting language could be built as a c library package, then perhaps it could be reused for many different purposes in many different applications. of course, the language would need to be extensible so that each application could add its own specific features to the core provided by the library. in the spring of 1988 i decided to implement such a language, and the result was tcl. tk was also born of frustration. the basic idea for tk arose in response to apple's announcement of hypercard in the fall of 1987. hypercard generated tremendous excitement because of the power of the system and the way in which it allowed many different interactive elements to be scripted and work together. however, i was discouraged. the hypercard system had obviously taken a large development effort, and it seemed unlikely to me that a small group such as a university researchproject could ever mount such a massive effort. this suggested that we would not be able to participate in the development of new forms of interactive software in the future.i concluded that the only hope for us was a component approach. rather than building a new application as a self-contained monolith with hundreds of thousands of lines of code, we needed to find a way to divide applications into many smaller reusable components. ideally each component would be small enough to be implemented by a small group, and interesting applications could be created by assembling components. in this environment it should be possible to create an exciting new application by developing one new component and then combining it with existing components.the component-based approach requires a powerful and flexible for assembling the components, and it occurred to me that perhaps a shared scripting language could provide that glue. out of this thinking grew tk, an x11 toolkit based on tcl. tk allows components to be either individual user-interface controls or entire applications; in either case components can be developed independently and tcl can be used to assemble the components and communicate between them.i started writing tcl and tk as a hobby in my spare time. as other people began to use the systems i found myself spending more and more time on them, to the point where today they occupy almost all of my waking hours and many of my sleeping ones.tcl and tk have succeeded beyond my wildest dreams. the tcl/tk developer community now numbers in the tens of thousands and there are thousands of tcl applications in existence or under development. the application areas for tcl and tk cover virtually the entire spectrum of graphical and engineering applications, including computer-aided design, software development, testing, instrument control, scientific visualization, and multimedia. tcl is used by itself in many applications, and tcl and tk are used together in many others. tcl and tk are being used by hundreds of companies, large and small, as well as universities and research laboratories.one benefit that came as a surprise to me is that it is possible to create interesting graphical user interfaces (guis) entirely as tcl scripts. i had always assumed that every tcl application would contain some new c code that implements new tcl commands, plus some tcl scripts that combine the new commands with the built-in facilities provided by tcl. however, once a simple tcl/tk application called wish became available, many people began creating user interfaces by writing tcl scripts for it, without writing any c code at all it turned out that the tcl and tk commands provide a high-level interface to gui programming that hides many of the details faced by a c programmer. as a result, it is much easier to learn how to use wish than a c-based toolkit, and user interfaces can be written with much less code. most tcl/tk users never write any c code at all and most of the tcl/tk applications consist solely of tcl scripts.this book is intended as an introduction to tcl and tk for programmers who plan to write or modify tcl/tk applications. i assume that readers have programmed in c and have at least passing familiarity with a shell such as sh or csh or ksh. i also assume that readers have used the x window system and are familiar with basic ideas such as using the mouse, resizing windows, etc. no prior experience with tcl or tk is needed in order to read this book, and you need not have written x applications using other toolkits such as motif.the book is organized so that you can learn tcl without learning tk if you wish. also, the discussion of how to write tcl scripts is separate from the discussion of how to use the c library interfaces provided by tcl and tk. the first two parts of the book describe tcl and tk at the level of writing scripts, and the last two parts describe the c interfaces for tcl and tk; if you are like the majority of tcl/tk users who only write scripts, you can stop after reading the first two parts.in spite of my best efforts, i'm sure that there are errors in this edition of the book. i'm interested in hearing about any problems that you encounter, whether they are typos, formatting errors, sections or ideas that are hard to understand, or bugs in the examples. i'll attempt to correct the problems in future printings of the book. the best way to report problems is with electronic mail sent to tclbookbugs@cs.berkeley.edu.many people have helped in the creation of this book. first and foremost i would like to thank brian kernighan, who reviewed several drafts of the manuscript with almost terrifying thoroughness and uncovered numerous problems both large and small. i am also grateful for the detailed comments provided by the other addison-wesley technical reviewers: richard blevins, gerard holzmann, curt horkey, ron hutchins, stephen johnson, oliver jones, david korn, bill leggett, don libes, kent margraf, stuart mcrobert, david richardson, alexei rodrigues, gerald rosenberg, john slater, and win treese. thanks also to bob sproull, who read the next-to-last draft from cover to cover and provided countless bug fixes and suggestions.i made early drafts of the manuscript available to the tcl/tk community via the internet and received countless comments and suggestions from all over the world in return. i'm afraid that i didn't keep careful enough records to acknowledge all the people who contributed in this way, but the list of contributors includes at least the following people: marvin aguero, miriam amos nihart, jim anderson, frederik anheuser, jeff blaine, john boller, david boyce, terry brannon, richard campbell, j. cazander, wen chen, richard cheung, peter chubb, de clarke, peter collinson, peter costantinidis, alistair crooks, peter davies, tal dayan, akim demaille, mark diekhans, matthew dillon, tuan doan, tony duarte, paul dubois, anton eliens, marc r. ewing, luis fernandes, martin forssen, ben fried, matteo frigo, andrej gabara, steve gaede, sanjay ghemawat\"]\n",
    "t = time()\n",
    "vectors = skipthoughts.encode(model,a)\n",
    "print time()-t"
   ]
  },
  {
   "cell_type": "code",
   "execution_count": null,
   "metadata": {
    "collapsed": false
   },
   "outputs": [],
   "source": [
    "# for _ in range(10):\n",
    "#     print f_input.readline()"
   ]
  },
  {
   "cell_type": "code",
   "execution_count": null,
   "metadata": {
    "collapsed": true
   },
   "outputs": [],
   "source": [
    "\n",
    "\n",
    "# f_input = open(DATA_DIR+'/data_prepared_for_skipthoughts.txt', \"r\")\n"
   ]
  },
  {
   "cell_type": "markdown",
   "metadata": {},
   "source": [
    "Generate the paper vectors\n",
    "--------------------------"
   ]
  },
  {
   "cell_type": "markdown",
   "metadata": {},
   "source": [
    "_Function to read a paper_"
   ]
  },
  {
   "cell_type": "code",
   "execution_count": null,
   "metadata": {
    "collapsed": false
   },
   "outputs": [
    {
     "name": "stdout",
     "output_type": "stream",
     "text": [
      "0 %\n"
     ]
    }
   ],
   "source": [
    "# BATCH_SIZE = 2\n",
    "# NUM_BATCHES = 2\n",
    "\n",
    "# for batch in xrange(NUM_BATCHES):\n",
    "#     print \"Working on %d\" %batch\n",
    "#     paper_names, paper_contents = [], []\n",
    "#     for paper_idx in xrange(BATCH_SIZE):\n",
    "for i in xrange(10):\n",
    "    if i % 100 == 0:\n",
    "        print i, '%'\n",
    "    paper_name, paper_content = read_a_paper(f_input)\n",
    "    #         paper_names.append(curr_paper_name)\n",
    "    #         paper_contents.append(curr_paper_content)\n",
    "    paper_vector = skipthoughts.encode(model, paper_content)\n",
    "    #     for paper_idx in range(len(paper_names)):\n",
    "    paper_vector_string = ' '.join(str(element) for element in curr_paper_vector)\n",
    "    f_output.write( str(paper_name) + ',' + paper_vector_string + '\\n' )"
   ]
  },
  {
   "cell_type": "code",
   "execution_count": null,
   "metadata": {
    "collapsed": false
   },
   "outputs": [],
   "source": [
    "f_output.close()\n",
    "f_output = open(os.path.join(DATA_DIR, 'paper-vectors.txt'),'r')\n",
    "line = f_output.readline()\n",
    "print line"
   ]
  }
 ],
 "metadata": {
  "kernelspec": {
   "display_name": "Python 2",
   "language": "python",
   "name": "python2"
  },
  "language_info": {
   "codemirror_mode": {
    "name": "ipython",
    "version": 2
   },
   "file_extension": ".py",
   "mimetype": "text/x-python",
   "name": "python",
   "nbconvert_exporter": "python",
   "pygments_lexer": "ipython2",
   "version": "2.7.6"
  }
 },
 "nbformat": 4,
 "nbformat_minor": 0
}
