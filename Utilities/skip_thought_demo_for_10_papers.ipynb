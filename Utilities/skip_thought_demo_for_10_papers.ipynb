{
 "cells": [
  {
   "cell_type": "code",
   "execution_count": 5,
   "metadata": {
    "collapsed": true
   },
   "outputs": [],
   "source": [
    "import numpy as np\n",
    "import os\n",
    "import re\n",
    "from collections import defaultdict\n",
    "import pdb\n",
    "import skipthoughts"
   ]
  },
  {
   "cell_type": "code",
   "execution_count": 6,
   "metadata": {
    "collapsed": false
   },
   "outputs": [
    {
     "name": "stdout",
     "output_type": "stream",
     "text": [
      "Loading model parameters...\n",
      "Compiling encoders...\n",
      "Loading tables...\n",
      "Packing up...\n"
     ]
    }
   ],
   "source": [
    "model = skipthoughts.load_model()\n"
   ]
  },
  {
   "cell_type": "code",
   "execution_count": 7,
   "metadata": {
    "collapsed": false
   },
   "outputs": [],
   "source": [
    "file_dir = '/users/TeamDeepUser/DeepUserModellingProject/DeepUserModelling/DatasetsProcessed/New_Dataset'\n",
    "checkfile = open(file_dir + '/list_of_ten_authors_and_their_papers.txt', \"r\")\n",
    "\n",
    "outfile = open(file_dir + '/list_of_ten_authors_with_their_paper_vectors.txt', \"w\")\n",
    "curr_line, line = '', ''\n",
    "isauthor, ispaper = 0, 0\n",
    "a = 0\n",
    "\n",
    "isabstract = 0\n",
    "abstract = defaultdict(list)\n",
    "identifier = defaultdict(list)\n",
    "#pdb.set_trace()\n",
    "for curr_line in checkfile:\n",
    "\tcurr_line = curr_line.rstrip(\"\\n\")\n",
    "\tcurr_line = curr_line.lower()\n",
    "\n",
    "\tif curr_line == \"<paper>\":\n",
    "\t\tispaper = 1\n",
    "\t\tinpfile = open(file_dir + '/list_of_identifiers_contents_for_authors_temp.txt', \"r\")\n",
    "\telif curr_line == \"<author>\":\n",
    "\t\tisauthor = 1\n",
    "\telif isauthor == 1:\n",
    "\t\tauthor = curr_line\n",
    "\t\t\n",
    "\t\tisauthor = 0\n",
    "\n",
    "\telif curr_line == \"</paper>\":\n",
    "\t\t#pdb.set_trace()\n",
    "\t\tispaper = 0\n",
    "\t\tauthor = ''\n",
    "\t\tinpfile.close()\n",
    "\telif ispaper == 1:\n",
    "\n",
    "\t\tfor line in inpfile:\n",
    "\t\t\tline = line.rstrip(\"\\n\")\n",
    "\t\t\tline = line.lower()\n",
    "\n",
    "\t\t\tif curr_line == line:\n",
    "\t\t\t\tidentifier[author].append(curr_line)\n",
    "\t\t\t\ta = 1\n",
    "\t\t\t\t# print author\n",
    "\t\t\t\tcontinue\n",
    "\t\t\telif a == 1 and line == \"<content>\":\n",
    "\t\t\t\tisabstract = 1\n",
    "\t\t\telif a == 1 and isabstract == 1:\n",
    "\t\t\t\tabstract[author].append(line)\n",
    "\t\t\t\ta = 0\n",
    "\t\t\t\tisabstract = 0\n",
    "\t\t\t\tbreak\n"
   ]
  },
  {
   "cell_type": "code",
   "execution_count": null,
   "metadata": {
    "collapsed": false
   },
   "outputs": [
    {
     "name": "stdout",
     "output_type": "stream",
     "text": [
      "divesh srivastava\n",
      "logical and physical support for heterogeneous dataheterogeneity arises naturally in virtually all real-world data. this paper presents evolutionary extensions to a relational database system for supporting three classes of data heterogeneity: variational, structural and annotational heterogeneities. we define these classes and show the impact of these new features on data storage, data-access mechanisms, and the data-description language. since xml is an important source of heterogeneity, we describe how the system automatically utilizes these new features when storing xml documents.\n"
     ]
    }
   ],
   "source": [
    "for i in abstract.keys():\n",
    "    outfile.write(\"<author>\" + \"\\n\")\n",
    "    outfile.write(i + \"\\n\")\n",
    "    print i\n",
    "    outfile.write(\"</author>\" + \"\\n\")\n",
    "    outfile.write(\"<paper_id>\" + \"\\n\")\n",
    "    for j in identifier[i]:\n",
    "        outfile.write(j + \"\\n\")\n",
    "    outfile.write(\"</paper_id>\" + \"\\n\")\n",
    "    outfile.write(\"<paper_vector>\" + \"\\n\")\n",
    "    for k in abstract[i]:\n",
    "        print k\n",
    "        vec = skipthoughts.encode(model,k)\n",
    "        outfile.write(str(vec) + \"\\n\")\n",
    "        # outfile.write(skipthoughts.encode(model,k) + \"\\n\")\n",
    "    outfile.write(\"</paper_vector>\" + \"\\n\\n\")\n",
    "\n"
   ]
  },
  {
   "cell_type": "code",
   "execution_count": null,
   "metadata": {
    "collapsed": true
   },
   "outputs": [],
   "source": [
    "checkfile.close()\n",
    "outfile.close()"
   ]
  }
 ],
 "metadata": {
  "kernelspec": {
   "display_name": "Python 2",
   "language": "python",
   "name": "python2"
  },
  "language_info": {
   "codemirror_mode": {
    "name": "ipython",
    "version": 2
   },
   "file_extension": ".py",
   "mimetype": "text/x-python",
   "name": "python",
   "nbconvert_exporter": "python",
   "pygments_lexer": "ipython2",
   "version": "2.7.6"
  }
 },
 "nbformat": 4,
 "nbformat_minor": 0
}
